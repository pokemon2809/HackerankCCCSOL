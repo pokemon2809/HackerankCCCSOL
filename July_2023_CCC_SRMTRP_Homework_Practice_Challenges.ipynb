{
 "cells": [
  {
   "attachments": {},
   "cell_type": "markdown",
   "metadata": {},
   "source": [
    "July 2023 : CCC SRM TRP : Homework Practice Challenges \n",
    "1.Find It Quick"
   ]
  },
  {
   "cell_type": "code",
   "execution_count": null,
   "metadata": {},
   "outputs": [],
   "source": [
    "def fibonacci_mod(n, m):\n",
    "    fib = [0, 1]  # Fibon sequence initialization\n",
    "\n",
    "    # Generate Fibon numbers up to n\n",
    "    for i in range(2, n + 1):\n",
    "        fib.append((fib[i - 1] + fib[i - 2]) % (2 ** m))\n",
    "\n",
    "    return fib[n]\n",
    "\n",
    "# Read input and calculate Mn for each pair of n and m\n",
    "while True:\n",
    "    try:\n",
    "        n, m = map(int, input().split())\n",
    "        result = fibonacci_mod(n, m)\n",
    "        print(result)\n",
    "    except EOFError:\n",
    "        break\n"
   ]
  }
 ],
 "metadata": {
  "language_info": {
   "name": "python"
  },
  "orig_nbformat": 4
 },
 "nbformat": 4,
 "nbformat_minor": 2
}
